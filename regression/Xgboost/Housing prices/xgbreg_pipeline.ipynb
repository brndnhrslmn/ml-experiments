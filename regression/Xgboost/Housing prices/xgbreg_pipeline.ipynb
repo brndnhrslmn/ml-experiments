{
 "cells": [
  {
   "cell_type": "code",
   "execution_count": 1,
   "metadata": {},
   "outputs": [],
   "source": [
    "import pandas as pd\n",
    "import os\n",
    "import pickle\n",
    "from xgboost import XGBRegressor\n",
    "from sklearn.metrics import mean_absolute_error\n",
    "from sklearn.model_selection import train_test_split\n",
    "from sklearn.compose import ColumnTransformer\n",
    "from sklearn.pipeline import Pipeline\n",
    "from sklearn.impute import SimpleImputer\n",
    "from sklearn.preprocessing import OneHotEncoder"
   ]
  },
  {
   "cell_type": "code",
   "execution_count": 2,
   "metadata": {},
   "outputs": [],
   "source": [
    "cwd = os.getcwd()\n",
    "dataPath1 = cwd + '\\\\data\\\\train.csv'\n",
    "dataPath2 = cwd + '\\\\data\\\\test.csv'\n",
    "df1 = pd.read_csv(dataPath1)\n",
    "df2 = pd.read_csv(dataPath2)"
   ]
  },
  {
   "cell_type": "code",
   "execution_count": 3,
   "metadata": {},
   "outputs": [],
   "source": [
    "# Remove rows with missing target and separate target from predictors\n",
    "df1.dropna(axis=0, subset=['SalePrice'], inplace=True)\n",
    "y = df1.SalePrice\n",
    "df1.drop(['SalePrice'], axis=1, inplace=True)\n",
    "\n",
    "# Split into training and validation data sets\n",
    "train_X, val_X, train_y, val_y = train_test_split(df1, y, shuffle=True, train_size=0.85, test_size=0.15, random_state=1)"
   ]
  },
  {
   "cell_type": "code",
   "execution_count": 4,
   "metadata": {},
   "outputs": [],
   "source": [
    "# Select categorical columns with relatively low cardinality\n",
    "cat_cols = [column for column in train_X.columns if train_X[column].nunique() < 10 and train_X[column].dtype == \"object\"]\n",
    "\n",
    "# Select numerical columns\n",
    "num_cols = [column for column in train_X.columns if train_X[column].dtype in ['int64', 'float64']]\n",
    "\n",
    "# Keep selected columns only\n",
    "work_cols = cat_cols + num_cols\n",
    "X_train = train_X[work_cols].copy()\n",
    "y_train = train_y.copy()\n",
    "X_val = val_X[work_cols].copy()\n",
    "y_val = val_y.copy()\n",
    "X_test = df2[work_cols].copy()"
   ]
  },
  {
   "cell_type": "code",
   "execution_count": 5,
   "metadata": {},
   "outputs": [],
   "source": [
    "# Preprocessing for categorical data\n",
    "categorical_transformer = Pipeline(steps=[\n",
    "    ('imputer', SimpleImputer(strategy='most_frequent')),\n",
    "    ('onehot', OneHotEncoder(handle_unknown='ignore'))\n",
    "])\n",
    "\n",
    "# Preprocessing for numerical data\n",
    "numerical_transformer = SimpleImputer(strategy='mean')\n",
    "\n",
    "# Bundle preprocessing for numerical and categorical data\n",
    "preprocessor = ColumnTransformer(transformers=[\n",
    "    ('num', numerical_transformer, num_cols),\n",
    "    ('cat', categorical_transformer, cat_cols)\n",
    "])\n",
    "\n",
    "# Define model\n",
    "model = XGBRegressor(n_estimators=500, learning_rate=0.05, n_jobs=4)"
   ]
  },
  {
   "cell_type": "code",
   "execution_count": 6,
   "metadata": {},
   "outputs": [
    {
     "name": "stdout",
     "output_type": "stream",
     "text": [
      "MAE: 13,497.413\n"
     ]
    }
   ],
   "source": [
    "# Bundle preprocessing and modeling code in a pipeline\n",
    "pipeline = Pipeline(steps=[\n",
    "    ('preprocessor', preprocessor),\n",
    "    ('model', model)\n",
    "])\n",
    "\n",
    "# Preprocessing of training data, fit model \n",
    "pipeline.fit(X_train, y_train)\n",
    "\n",
    "# Preprocessing of validation data, get predictions\n",
    "preds = pipeline.predict(X_val)\n",
    "\n",
    "print('MAE: {:,.3f}'.format(mean_absolute_error(y_val, preds)))"
   ]
  },
  {
   "cell_type": "code",
   "execution_count": 7,
   "metadata": {},
   "outputs": [],
   "source": [
    "# Access the current working directory and output the model to a pickle file\n",
    "cwd = os.getcwd()\n",
    "modelPath = os.path.join(cwd,'model', 'xgb_housing_pipeline.pkl')\n",
    "with open(modelPath, 'wb') as file:\n",
    "\tpickle.dump(model, file)"
   ]
  },
  {
   "cell_type": "code",
   "execution_count": 8,
   "metadata": {},
   "outputs": [
    {
     "name": "stdout",
     "output_type": "stream",
     "text": [
      "[119660.1  156944.48 184066.2  ... 156186.19 107592.   225163.28]\n"
     ]
    }
   ],
   "source": [
    "# Make predictions using the test data file\n",
    "preds_test = pipeline.predict(X_test)\n",
    "print(preds_test)"
   ]
  },
  {
   "cell_type": "code",
   "execution_count": 9,
   "metadata": {},
   "outputs": [],
   "source": [
    "# Save predictions to a file\n",
    "output = pd.DataFrame({'Id': df2.Id, 'SalePrice': preds_test})\n",
    "output.to_csv('data\\\\output.csv', index=False)"
   ]
  }
 ],
 "metadata": {
  "interpreter": {
   "hash": "357cf4c8d4dd3ace205740f135baa4d96df20bccf6093aa911b47d2d31e1bac8"
  },
  "kernelspec": {
   "display_name": "Python 3.9.7 64-bit",
   "name": "python3"
  },
  "language_info": {
   "codemirror_mode": {
    "name": "ipython",
    "version": 3
   },
   "file_extension": ".py",
   "mimetype": "text/x-python",
   "name": "python",
   "nbconvert_exporter": "python",
   "pygments_lexer": "ipython3",
   "version": "3.9.7"
  },
  "orig_nbformat": 4
 },
 "nbformat": 4,
 "nbformat_minor": 2
}
