{
 "cells": [
  {
   "cell_type": "markdown",
   "id": "018422fc",
   "metadata": {},
   "source": [
    "# Predicting Remaining Usable Life of a PC7000 Excavator\n",
    "\n",
    "This notebook demonstrates a machine learning experiment to predict the remaining usable life of a PC7000 excavator using a synthetic dataset. We will generate data, visualize it, preprocess, train a regression model, evaluate its performance, and make predictions."
   ]
  },
  {
   "cell_type": "code",
   "execution_count": null,
   "id": "d5fbd44a",
   "metadata": {},
   "outputs": [],
   "source": [
    "import numpy as np\n",
    "import pandas as pd\n",
    "import matplotlib.pyplot as plt\n",
    "import seaborn as sns\n",
    "from sklearn.model_selection import train_test_split\n",
    "from sklearn.ensemble import RandomForestRegressor\n",
    "from sklearn.metrics import mean_absolute_error, r2_score\n",
    "from sklearn.preprocessing import StandardScaler"
   ]
  },
  {
   "cell_type": "code",
   "execution_count": null,
   "id": "5bf34253",
   "metadata": {},
   "outputs": [],
   "source": [
    "# Set random seed for reproducibility\n",
    "np.random.seed(42)\n",
    "\n",
    "n_samples = 1000\n",
    "operating_hours = np.random.uniform(1000, 20000, n_samples)\n",
    "load = np.random.uniform(0.5, 1.5, n_samples)  # normalized load factor\n",
    "avg_temp = np.random.uniform(20, 80, n_samples)  # degrees Celsius\n",
    "vibration = np.random.uniform(0.1, 2.0, n_samples)  # vibration level\n",
    "maintenance_count = np.random.randint(0, 10, n_samples)\n",
    "\n",
    "# Synthetic formula for remaining life (in hours)\n",
    "remaining_life = (\n",
    "    25000 - operating_hours - (load * 1000) - (avg_temp * 50) - (vibration * 500) - (maintenance_count * 200)\n",
    "    + np.random.normal(0, 1000, n_samples)\n",
    ")\n",
    "remaining_life = np.clip(remaining_life, 0, None)\n",
    "\n",
    "data = pd.DataFrame({\n",
    "    'OperatingHours': operating_hours,\n",
    "    'Load': load,\n",
    "    'AvgTemp': avg_temp,\n",
    "    'Vibration': vibration,\n",
    "    'MaintenanceCount': maintenance_count,\n",
    "    'RemainingLife': remaining_life\n",
    "})\n",
    "data.head()"
   ]
  },
  {
   "cell_type": "code",
   "execution_count": null,
   "id": "d054e68a",
   "metadata": {},
   "outputs": [],
   "source": [
    "# Pairplot to visualize relationships\n",
    "sns.pairplot(data, vars=['OperatingHours', 'Load', 'AvgTemp', 'Vibration', 'MaintenanceCount', 'RemainingLife'])\n",
    "plt.suptitle('Feature Relationships', y=1.02)\n",
    "plt.show()\n",
    "\n",
    "# Correlation heatmap\n",
    "plt.figure(figsize=(8,6))\n",
    "sns.heatmap(data.corr(), annot=True, cmap='coolwarm')\n",
    "plt.title('Feature Correlation Heatmap')\n",
    "plt.show()"
   ]
  },
  {
   "cell_type": "code",
   "execution_count": null,
   "id": "ba8426fc",
   "metadata": {},
   "outputs": [],
   "source": [
    "# Check for missing values\n",
    "print('Missing values per column:')\n",
    "print(data.isnull().sum())\n",
    "\n",
    "# Feature scaling\n",
    "features = ['OperatingHours', 'Load', 'AvgTemp', 'Vibration', 'MaintenanceCount']\n",
    "scaler = StandardScaler()\n",
    "data[features] = scaler.fit_transform(data[features])"
   ]
  },
  {
   "cell_type": "code",
   "execution_count": null,
   "id": "c01949f0",
   "metadata": {},
   "outputs": [],
   "source": [
    "X = data[features]\n",
    "y = data['RemainingLife']\n",
    "\n",
    "X_train, X_test, y_train, y_test = train_test_split(X, y, test_size=0.2, random_state=42)\n",
    "print(f'Training samples: {X_train.shape[0]}, Testing samples: {X_test.shape[0]}')"
   ]
  },
  {
   "cell_type": "code",
   "execution_count": null,
   "id": "44ca0276",
   "metadata": {},
   "outputs": [],
   "source": [
    "model = RandomForestRegressor(n_estimators=100, random_state=42)\n",
    "model.fit(X_train, y_train)\n",
    "\n",
    "print('Model training complete.')"
   ]
  },
  {
   "cell_type": "code",
   "execution_count": null,
   "id": "555a70aa",
   "metadata": {},
   "outputs": [],
   "source": [
    "y_pred = model.predict(X_test)\n",
    "mae = mean_absolute_error(y_test, y_pred)\n",
    "r2 = r2_score(y_test, y_pred)\n",
    "\n",
    "print(f'Mean Absolute Error: {mae:.2f}')\n",
    "print(f'R-squared: {r2:.2f}')\n",
    "\n",
    "# Plot actual vs predicted\n",
    "plt.figure(figsize=(8,6))\n",
    "plt.scatter(y_test, y_pred, alpha=0.5)\n",
    "plt.xlabel('Actual Remaining Life')\n",
    "plt.ylabel('Predicted Remaining Life')\n",
    "plt.title('Actual vs Predicted Remaining Usable Life')\n",
    "plt.plot([0, max(y_test)], [0, max(y_test)], 'r--')\n",
    "plt.show()"
   ]
  },
  {
   "cell_type": "code",
   "execution_count": null,
   "id": "9677a196",
   "metadata": {},
   "outputs": [],
   "source": [
    "# Example: Predict remaining life for new excavator data\n",
    "new_data = pd.DataFrame({\n",
    "    'OperatingHours': [5000, 15000],\n",
    "    'Load': [1.0, 1.2],\n",
    "    'AvgTemp': [40, 70],\n",
    "    'Vibration': [0.5, 1.5],\n",
    "    'MaintenanceCount': [2, 7]\n",
    "})\n",
    "new_data[features] = scaler.transform(new_data[features])\n",
    "predictions = model.predict(new_data[features])\n",
    "\n",
    "for i, pred in enumerate(predictions):\n",
    "    print(f'Example {i+1}: Predicted Remaining Usable Life = {pred:.2f} hours')"
   ]
  }
 ],
 "metadata": {
  "language_info": {
   "name": "python"
  }
 },
 "nbformat": 4,
 "nbformat_minor": 5
}
